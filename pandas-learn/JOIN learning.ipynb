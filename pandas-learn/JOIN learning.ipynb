{
 "cells": [
  {
   "cell_type": "markdown",
   "id": "37cd6042-7ad7-4794-8699-810423099e97",
   "metadata": {},
   "source": [
    "# Типы JOIN с помощью Pandas `pd.merge()`"
   ]
  },
  {
   "cell_type": "code",
   "execution_count": 2,
   "id": "646936d0-250b-49c1-97aa-9ae6aae6541e",
   "metadata": {},
   "outputs": [],
   "source": [
    "import pandas as pd"
   ]
  },
  {
   "cell_type": "code",
   "execution_count": 3,
   "id": "05d26a82-b818-4747-996d-b5ca65e8c250",
   "metadata": {},
   "outputs": [
    {
     "name": "stdout",
     "output_type": "stream",
     "text": [
      "DataFrame 1:\n",
      "   ID     Name  Age\n",
      "0   1    Alice   25\n",
      "1   2      Bob   30\n",
      "2   3  Charlie   35\n",
      "3   4    David   40\n",
      "\n",
      "DataFrame 2:\n",
      "   ID  Salary   Department\n",
      "0   1   70000           HR\n",
      "1   2   80000           IT\n",
      "2   3   90000      Finance\n",
      "3   4  100000    Marketing\n",
      "4   5  120000  Call Center\n"
     ]
    }
   ],
   "source": [
    "# Создание первого DataFrame\n",
    "data1 = {\n",
    "    'ID': [1, 2, 3, 4],\n",
    "    'Name': ['Alice', 'Bob', 'Charlie', 'David'],\n",
    "    'Age': [25, 30, 35, 40]\n",
    "}\n",
    "\n",
    "df1 = pd.DataFrame(data1)\n",
    "\n",
    "# Создание второго DataFrame\n",
    "data2 = {\n",
    "    'ID': [1, 2, 3, 4, 5],\n",
    "    'Salary': [70000, 80000, 90000, 100000, 120000],\n",
    "    'Department': ['HR', 'IT', 'Finance', 'Marketing', 'Call Center']\n",
    "}\n",
    "\n",
    "df2 = pd.DataFrame(data2)\n",
    "\n",
    "print(\"DataFrame 1:\")\n",
    "print(df1)\n",
    "print(\"\\nDataFrame 2:\")\n",
    "print(df2)"
   ]
  },
  {
   "cell_type": "markdown",
   "id": "0b9903da-f0fd-4f11-ac0c-dd4677f9734e",
   "metadata": {},
   "source": [
    "## Inner Join"
   ]
  },
  {
   "cell_type": "code",
   "execution_count": 4,
   "id": "4df51b5d-c3d9-46e0-a870-74b3b2e68128",
   "metadata": {},
   "outputs": [
    {
     "name": "stdout",
     "output_type": "stream",
     "text": [
      "\n",
      "Inner Join:\n",
      "   ID     Name  Age  Salary Department\n",
      "0   1    Alice   25   70000         HR\n",
      "1   2      Bob   30   80000         IT\n",
      "2   3  Charlie   35   90000    Finance\n",
      "3   4    David   40  100000  Marketing\n"
     ]
    }
   ],
   "source": [
    "inner_join = pd.merge(df1, df2, on='ID', how='inner')\n",
    "print(inner_join)"
   ]
  },
  {
   "cell_type": "markdown",
   "id": "c4594f21-db56-4a72-ab94-c1a3955d51be",
   "metadata": {},
   "source": [
    "## Outer Join"
   ]
  },
  {
   "cell_type": "code",
   "execution_count": 5,
   "id": "9442af48-6e32-4e6e-aa4e-68be2688e0a9",
   "metadata": {},
   "outputs": [
    {
     "name": "stdout",
     "output_type": "stream",
     "text": [
      "\n",
      "Outer Join:\n",
      "   ID     Name   Age  Salary   Department\n",
      "0   1    Alice  25.0   70000           HR\n",
      "1   2      Bob  30.0   80000           IT\n",
      "2   3  Charlie  35.0   90000      Finance\n",
      "3   4    David  40.0  100000    Marketing\n",
      "4   5      NaN   NaN  120000  Call Center\n"
     ]
    }
   ],
   "source": [
    "outer_join = pd.merge(df1, df2, on='ID', how='outer')\n",
    "print(outer_join)"
   ]
  },
  {
   "cell_type": "markdown",
   "id": "6e0ecb01-897f-4e86-8c5b-57cad31b98ea",
   "metadata": {},
   "source": [
    "## Left Join"
   ]
  },
  {
   "cell_type": "code",
   "execution_count": 6,
   "id": "dfb024aa-295b-4cd0-9d75-c4f0a0673cfa",
   "metadata": {},
   "outputs": [
    {
     "name": "stdout",
     "output_type": "stream",
     "text": [
      "\n",
      "Left Join:\n",
      "   ID     Name  Age  Salary Department\n",
      "0   1    Alice   25   70000         HR\n",
      "1   2      Bob   30   80000         IT\n",
      "2   3  Charlie   35   90000    Finance\n",
      "3   4    David   40  100000  Marketing\n"
     ]
    }
   ],
   "source": [
    "left_join = pd.merge(df1, df2, on='ID', how='left')\n",
    "print(left_join)"
   ]
  },
  {
   "cell_type": "markdown",
   "id": "4c755341-23c9-4ed8-8255-1bf3b3da8447",
   "metadata": {},
   "source": [
    "## Right Join"
   ]
  },
  {
   "cell_type": "code",
   "execution_count": 7,
   "id": "7f408b43-1280-4df7-81fa-03e7906c5b9b",
   "metadata": {},
   "outputs": [
    {
     "name": "stdout",
     "output_type": "stream",
     "text": [
      "\n",
      "Right Join:\n",
      "   ID     Name   Age  Salary   Department\n",
      "0   1    Alice  25.0   70000           HR\n",
      "1   2      Bob  30.0   80000           IT\n",
      "2   3  Charlie  35.0   90000      Finance\n",
      "3   4    David  40.0  100000    Marketing\n",
      "4   5      NaN   NaN  120000  Call Center\n"
     ]
    }
   ],
   "source": [
    "right_join = pd.merge(df1, df2, on='ID', how='right')\n",
    "print(right_join)"
   ]
  },
  {
   "cell_type": "code",
   "execution_count": null,
   "id": "7831035b-b7b8-49c6-8748-f74bcb0f5f10",
   "metadata": {},
   "outputs": [],
   "source": []
  }
 ],
 "metadata": {
  "kernelspec": {
   "display_name": "Python 3 (ipykernel)",
   "language": "python",
   "name": "python3"
  },
  "language_info": {
   "codemirror_mode": {
    "name": "ipython",
    "version": 3
   },
   "file_extension": ".py",
   "mimetype": "text/x-python",
   "name": "python",
   "nbconvert_exporter": "python",
   "pygments_lexer": "ipython3",
   "version": "3.12.5"
  }
 },
 "nbformat": 4,
 "nbformat_minor": 5
}
